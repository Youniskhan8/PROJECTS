{
 "cells": [
  {
   "cell_type": "code",
   "execution_count": 1,
   "metadata": {},
   "outputs": [
    {
     "name": "stdout",
     "output_type": "stream",
     "text": [
      "Requirement already satisfied: flask in c:\\users\\91979\\appdata\\local\\programs\\python\\python310\\lib\\site-packages (3.1.0)\n",
      "Requirement already satisfied: Jinja2>=3.1.2 in c:\\users\\91979\\appdata\\local\\programs\\python\\python310\\lib\\site-packages (from flask) (3.1.6)\n",
      "Requirement already satisfied: itsdangerous>=2.2 in c:\\users\\91979\\appdata\\local\\programs\\python\\python310\\lib\\site-packages (from flask) (2.2.0)\n",
      "Requirement already satisfied: blinker>=1.9 in c:\\users\\91979\\appdata\\local\\programs\\python\\python310\\lib\\site-packages (from flask) (1.9.0)\n",
      "Requirement already satisfied: click>=8.1.3 in c:\\users\\91979\\appdata\\local\\programs\\python\\python310\\lib\\site-packages (from flask) (8.1.8)\n",
      "Requirement already satisfied: Werkzeug>=3.1 in c:\\users\\91979\\appdata\\local\\programs\\python\\python310\\lib\\site-packages (from flask) (3.1.3)\n",
      "Requirement already satisfied: colorama in c:\\users\\91979\\appdata\\roaming\\python\\python310\\site-packages (from click>=8.1.3->flask) (0.4.6)\n",
      "Requirement already satisfied: MarkupSafe>=2.0 in c:\\users\\91979\\appdata\\local\\programs\\python\\python310\\lib\\site-packages (from Jinja2>=3.1.2->flask) (3.0.2)\n",
      "Note: you may need to restart the kernel to use updated packages.\n"
     ]
    },
    {
     "name": "stderr",
     "output_type": "stream",
     "text": [
      "WARNING: You are using pip version 21.2.4; however, version 25.0.1 is available.\n",
      "You should consider upgrading via the 'c:\\Users\\91979\\AppData\\Local\\Programs\\Python\\Python310\\python.exe -m pip install --upgrade pip' command.\n"
     ]
    }
   ],
   "source": [
    "pip install flask\n"
   ]
  },
  {
   "cell_type": "code",
   "execution_count": 2,
   "metadata": {},
   "outputs": [
    {
     "ename": "FileNotFoundError",
     "evalue": "[Errno 2] No such file or directory: 'model.pkl'",
     "output_type": "error",
     "traceback": [
      "\u001b[1;31m---------------------------------------------------------------------------\u001b[0m",
      "\u001b[1;31mFileNotFoundError\u001b[0m                         Traceback (most recent call last)",
      "Cell \u001b[1;32mIn[2], line 7\u001b[0m\n\u001b[0;32m      4\u001b[0m \u001b[38;5;28;01mimport\u001b[39;00m\u001b[38;5;250m \u001b[39m\u001b[38;5;21;01mnumpy\u001b[39;00m\u001b[38;5;250m \u001b[39m\u001b[38;5;28;01mas\u001b[39;00m\u001b[38;5;250m \u001b[39m\u001b[38;5;21;01mnp\u001b[39;00m\n\u001b[0;32m      6\u001b[0m \u001b[38;5;66;03m# Load trained model\u001b[39;00m\n\u001b[1;32m----> 7\u001b[0m \u001b[38;5;28;01mwith\u001b[39;00m \u001b[38;5;28;43mopen\u001b[39;49m\u001b[43m(\u001b[49m\u001b[38;5;124;43m\"\u001b[39;49m\u001b[38;5;124;43mmodel.pkl\u001b[39;49m\u001b[38;5;124;43m\"\u001b[39;49m\u001b[43m,\u001b[49m\u001b[43m \u001b[49m\u001b[38;5;124;43m\"\u001b[39;49m\u001b[38;5;124;43mrb\u001b[39;49m\u001b[38;5;124;43m\"\u001b[39;49m\u001b[43m)\u001b[49m \u001b[38;5;28;01mas\u001b[39;00m model_file:\n\u001b[0;32m      8\u001b[0m     model \u001b[38;5;241m=\u001b[39m pickle\u001b[38;5;241m.\u001b[39mload(model_file)\n\u001b[0;32m     10\u001b[0m \u001b[38;5;66;03m# Load Label Encoders\u001b[39;00m\n",
      "File \u001b[1;32m~\\AppData\\Roaming\\Python\\Python310\\site-packages\\IPython\\core\\interactiveshell.py:324\u001b[0m, in \u001b[0;36m_modified_open\u001b[1;34m(file, *args, **kwargs)\u001b[0m\n\u001b[0;32m    317\u001b[0m \u001b[38;5;28;01mif\u001b[39;00m file \u001b[38;5;129;01min\u001b[39;00m {\u001b[38;5;241m0\u001b[39m, \u001b[38;5;241m1\u001b[39m, \u001b[38;5;241m2\u001b[39m}:\n\u001b[0;32m    318\u001b[0m     \u001b[38;5;28;01mraise\u001b[39;00m \u001b[38;5;167;01mValueError\u001b[39;00m(\n\u001b[0;32m    319\u001b[0m         \u001b[38;5;124mf\u001b[39m\u001b[38;5;124m\"\u001b[39m\u001b[38;5;124mIPython won\u001b[39m\u001b[38;5;124m'\u001b[39m\u001b[38;5;124mt let you open fd=\u001b[39m\u001b[38;5;132;01m{\u001b[39;00mfile\u001b[38;5;132;01m}\u001b[39;00m\u001b[38;5;124m by default \u001b[39m\u001b[38;5;124m\"\u001b[39m\n\u001b[0;32m    320\u001b[0m         \u001b[38;5;124m\"\u001b[39m\u001b[38;5;124mas it is likely to crash IPython. If you know what you are doing, \u001b[39m\u001b[38;5;124m\"\u001b[39m\n\u001b[0;32m    321\u001b[0m         \u001b[38;5;124m\"\u001b[39m\u001b[38;5;124myou can use builtins\u001b[39m\u001b[38;5;124m'\u001b[39m\u001b[38;5;124m open.\u001b[39m\u001b[38;5;124m\"\u001b[39m\n\u001b[0;32m    322\u001b[0m     )\n\u001b[1;32m--> 324\u001b[0m \u001b[38;5;28;01mreturn\u001b[39;00m io_open(file, \u001b[38;5;241m*\u001b[39margs, \u001b[38;5;241m*\u001b[39m\u001b[38;5;241m*\u001b[39mkwargs)\n",
      "\u001b[1;31mFileNotFoundError\u001b[0m: [Errno 2] No such file or directory: 'model.pkl'"
     ]
    }
   ],
   "source": [
    "from flask import Flask, request, jsonify\n",
    "import pandas as pd\n",
    "import pickle\n",
    "import numpy as np\n",
    "\n",
    "# Load trained model\n",
    "with open(\"model.pkl\", \"rb\") as model_file:\n",
    "    model = pickle.load(model_file)\n",
    "\n",
    "# Load Label Encoders\n",
    "with open(\"label_encoders.pkl\", \"rb\") as le_file:\n",
    "    le_dict = pickle.load(le_file)\n",
    "\n",
    "app = Flask(__name__)\n",
    "\n",
    "@app.route(\"/\")\n",
    "def home():\n",
    "    return \"Commodity Price Prediction API is running!\"\n",
    "\n",
    "@app.route(\"/predict\", methods=[\"POST\"])\n",
    "def predict():\n",
    "    data = request.get_json()\n",
    "\n",
    "    # Required fields\n",
    "    required_fields = [\"Commodity\", \"Variety\", \"Grade\", \"District Name\", \"Market Name\", \"Price Date\", \"Temperature\"]\n",
    "    for field in required_fields:\n",
    "        if field not in data:\n",
    "            return jsonify({\"error\": f\"Missing field: {field}\"}), 400\n",
    "\n",
    "    # Encode categorical variables\n",
    "    try:\n",
    "        data_encoded = data.copy()\n",
    "        for col in [\"Commodity\", \"Variety\", \"Grade\", \"District Name\", \"Market Name\"]:\n",
    "            data_encoded[col] = le_dict[col].transform([data[col]])[0]\n",
    "\n",
    "        # Extract year and month\n",
    "        date = pd.to_datetime(data[\"Price Date\"])\n",
    "        data_encoded[\"year\"] = date.year\n",
    "        data_encoded[\"month\"] = date.month\n",
    "\n",
    "        # Prepare input for model\n",
    "        model_input = np.array([[data_encoded[col] for col in [\"District Name\", \"Market Name\", \"Commodity\", \"Variety\", \"Grade\", \"year\", \"month\", \"Temperature\"]]])\n",
    "        \n",
    "        # Make prediction\n",
    "        prediction = model.predict(model_input)[0]\n",
    "\n",
    "        return jsonify({\"Predicted Modal Price\": prediction})\n",
    "\n",
    "    except Exception as e:\n",
    "        return jsonify({\"error\": str(e)}), 500\n",
    "\n",
    "if __name__ == \"__main__\":\n",
    "    app.run(debug=True)\n"
   ]
  },
  {
   "cell_type": "code",
   "execution_count": 3,
   "metadata": {},
   "outputs": [
    {
     "name": "stdout",
     "output_type": "stream",
     "text": [
      "✅ Model loaded successfully!\n"
     ]
    }
   ],
   "source": [
    "import os\n",
    "\n",
    "if os.path.exists(\"model.pkl\"):\n",
    "    with open(\"model.pkl\", \"rb\") as model_file:\n",
    "        model = pickle.load(model_file)\n",
    "    print(\"✅ Model loaded successfully!\")\n",
    "else:\n",
    "    print(\"❌ Error: model.pkl not found!\")\n"
   ]
  },
  {
   "cell_type": "code",
   "execution_count": 9,
   "metadata": {},
   "outputs": [
    {
     "ename": "ModuleNotFoundError",
     "evalue": "No module named 'flask_cors'",
     "output_type": "error",
     "traceback": [
      "\u001b[1;31m---------------------------------------------------------------------------\u001b[0m",
      "\u001b[1;31mModuleNotFoundError\u001b[0m                       Traceback (most recent call last)",
      "Cell \u001b[1;32mIn[9], line 1\u001b[0m\n\u001b[1;32m----> 1\u001b[0m \u001b[38;5;28;01mfrom\u001b[39;00m\u001b[38;5;250m \u001b[39m\u001b[38;5;21;01mflask_cors\u001b[39;00m\u001b[38;5;250m \u001b[39m\u001b[38;5;28;01mimport\u001b[39;00m CORS\n\u001b[0;32m      2\u001b[0m CORS(app)\n",
      "\u001b[1;31mModuleNotFoundError\u001b[0m: No module named 'flask_cors'"
     ]
    }
   ],
   "source": [
    "from flask_cors import CORS\n",
    "CORS(app)\n"
   ]
  },
  {
   "cell_type": "code",
   "execution_count": 13,
   "metadata": {},
   "outputs": [
    {
     "name": "stdout",
     "output_type": "stream",
     "text": [
      "Collecting flask-cors\n",
      "  Downloading flask_cors-5.0.1-py3-none-any.whl (11 kB)\n",
      "Requirement already satisfied: flask>=0.9 in c:\\users\\91979\\appdata\\local\\programs\\python\\python310\\lib\\site-packages (from flask-cors) (3.1.0)\n",
      "Requirement already satisfied: Werkzeug>=0.7 in c:\\users\\91979\\appdata\\local\\programs\\python\\python310\\lib\\site-packages (from flask-cors) (3.1.3)\n",
      "Requirement already satisfied: itsdangerous>=2.2 in c:\\users\\91979\\appdata\\local\\programs\\python\\python310\\lib\\site-packages (from flask>=0.9->flask-cors) (2.2.0)\n",
      "Requirement already satisfied: click>=8.1.3 in c:\\users\\91979\\appdata\\local\\programs\\python\\python310\\lib\\site-packages (from flask>=0.9->flask-cors) (8.1.8)\n",
      "Requirement already satisfied: blinker>=1.9 in c:\\users\\91979\\appdata\\local\\programs\\python\\python310\\lib\\site-packages (from flask>=0.9->flask-cors) (1.9.0)\n",
      "Requirement already satisfied: Jinja2>=3.1.2 in c:\\users\\91979\\appdata\\local\\programs\\python\\python310\\lib\\site-packages (from flask>=0.9->flask-cors) (3.1.6)\n",
      "Requirement already satisfied: colorama in c:\\users\\91979\\appdata\\roaming\\python\\python310\\site-packages (from click>=8.1.3->flask>=0.9->flask-cors) (0.4.6)\n",
      "Requirement already satisfied: MarkupSafe>=2.0 in c:\\users\\91979\\appdata\\local\\programs\\python\\python310\\lib\\site-packages (from Jinja2>=3.1.2->flask>=0.9->flask-cors) (3.0.2)\n",
      "Installing collected packages: flask-cors\n",
      "Successfully installed flask-cors-5.0.1\n",
      "Note: you may need to restart the kernel to use updated packages.\n"
     ]
    },
    {
     "name": "stderr",
     "output_type": "stream",
     "text": [
      "WARNING: You are using pip version 21.2.4; however, version 25.0.1 is available.\n",
      "You should consider upgrading via the 'c:\\Users\\91979\\AppData\\Local\\Programs\\Python\\Python310\\python.exe -m pip install --upgrade pip' command.\n"
     ]
    }
   ],
   "source": [
    "pip install flask-cors\n"
   ]
  },
  {
   "cell_type": "markdown",
   "metadata": {},
   "source": [
    "Minimal flask api\n",
    "from flask import Flask\n",
    "\n",
    "app = Flask(__name__)\n",
    "\n",
    "@app.route(\"/\")\n",
    "def hello_world():\n",
    "    return \"<p>Hello, World!</p>\""
   ]
  },
  {
   "cell_type": "code",
   "execution_count": 7,
   "metadata": {},
   "outputs": [
    {
     "name": "stdout",
     "output_type": "stream",
     "text": [
      " * Serving Flask app '__main__'\n",
      " * Debug mode: off\n"
     ]
    },
    {
     "name": "stderr",
     "output_type": "stream",
     "text": [
      "WARNING: This is a development server. Do not use it in a production deployment. Use a production WSGI server instead.\n",
      " * Running on http://127.0.0.1:5000\n",
      "Press CTRL+C to quit\n",
      "127.0.0.1 - - [04/Apr/2025 10:00:16] \"GET / HTTP/1.1\" 200 -\n",
      "127.0.0.1 - - [04/Apr/2025 10:00:26] \"GET /name HTTP/1.1\" 200 -\n"
     ]
    }
   ],
   "source": [
    "from flask import Flask\n",
    "\n",
    "app = Flask(__name__)\n",
    "\n",
    "@app.route(\"/\")\n",
    "def hello_world():\n",
    "    return \"<p>Hello, World!</p>\"\n",
    "@app.route(\"/name\")\n",
    "def younis():\n",
    "    return 'my name is younis khan'\n",
    "if __name__ == \"__main__\":\n",
    "    app.run(port=5000, debug=False)"
   ]
  },
  {
   "cell_type": "code",
   "execution_count": null,
   "metadata": {},
   "outputs": [
    {
     "name": "stdout",
     "output_type": "stream",
     "text": [
      " * Serving Flask app '__main__'\n",
      " * Debug mode: off\n"
     ]
    },
    {
     "name": "stderr",
     "output_type": "stream",
     "text": [
      "WARNING: This is a development server. Do not use it in a production deployment. Use a production WSGI server instead.\n",
      " * Running on http://127.0.0.1:5001\n",
      "Press CTRL+C to quit\n",
      "127.0.0.1 - - [04/Apr/2025 10:02:20] \"GET / HTTP/1.1\" 200 -\n",
      "127.0.0.1 - - [04/Apr/2025 10:02:20] \"GET /favicon.ico HTTP/1.1\" 404 -\n",
      "127.0.0.1 - - [04/Apr/2025 10:02:49] \"GET /predict HTTP/1.1\" 405 -\n",
      "127.0.0.1 - - [04/Apr/2025 10:16:49] \"OPTIONS /predict HTTP/1.1\" 200 -\n",
      "127.0.0.1 - - [04/Apr/2025 10:16:49] \"POST /predict HTTP/1.1\" 500 -\n"
     ]
    }
   ],
   "source": [
    "from flask import Flask, request, jsonify\n",
    "import pandas as pd\n",
    "import pickle\n",
    "import numpy as np\n",
    "from flask_cors import CORS  # Import CORS\n",
    "\n",
    "app = Flask(__name__)  # Flask app initialize\n",
    "CORS(app)  # Enable CORS after app initialization\n",
    "\n",
    "# Load trained model\n",
    "with open(\"model.pkl\", \"rb\") as model_file:\n",
    "    model = pickle.load(model_file)\n",
    "\n",
    "# Load Label Encoders\n",
    "with open(\"label_encoders.pkl\", \"rb\") as le_file:\n",
    "    le_dict = pickle.load(le_file)\n",
    "\n",
    "@app.route(\"/\")\n",
    "def home():\n",
    "    return \"Commodity Price Prediction API is running!\"\n",
    "\n",
    "@app.route(\"/predict\", methods=[\"POST\"])\n",
    "def predict():\n",
    "    data = request.get_json()\n",
    "\n",
    "    # Required fields\n",
    "    required_fields = [\"Commodity\", \"Variety\", \"Grade\", \"District Name\", \"Market Name\", \"Price Date\", \"Temperature\"]\n",
    "    for field in required_fields:\n",
    "        if field not in data:\n",
    "            return jsonify({\"error\": f\"Missing field: {field}\"}), 400\n",
    "\n",
    "    # Encode categorical variables\n",
    "    try:\n",
    "        data_encoded = data.copy()\n",
    "        for col in [\"Commodity\", \"Variety\", \"Grade\", \"District Name\", \"Market Name\"]:\n",
    "            data_encoded[col] = le_dict[col].transform([data[col]])[0]\n",
    "\n",
    "        # Extract year and month\n",
    "        date = pd.to_datetime(data[\"Price Date\"])\n",
    "        data_encoded[\"year\"] = date.year\n",
    "        data_encoded[\"month\"] = date.month\n",
    "\n",
    "        # Prepare input for model\n",
    "        model_input = np.array([[data_encoded[col] for col in [\"District Name\", \"Market Name\", \"Commodity\", \"Variety\", \"Grade\", \"year\", \"month\", \"Temperature\"]]])\n",
    "        \n",
    "        # Make prediction\n",
    "        prediction = model.predict(model_input)[0]\n",
    "\n",
    "        return jsonify({\"Predicted Modal Price\": prediction})\n",
    "\n",
    "    except Exception as e:\n",
    "        return jsonify({\"error\": str(e)}), 500\n",
    "\n",
    "if __name__ == \"__main__\":\n",
    "    app.run(port=5001, debug=False)\n"
   ]
  },
  {
   "cell_type": "code",
   "execution_count": null,
   "metadata": {},
   "outputs": [],
   "source": [
    "@app.route('/predict', methods=['POST'])\n",
    "def predict():\n"
   ]
  },
  {
   "cell_type": "code",
   "execution_count": null,
   "metadata": {},
   "outputs": [],
   "source": [
    "from flask_cors import CORS\n",
    "CORS(app)\n"
   ]
  }
 ],
 "metadata": {
  "kernelspec": {
   "display_name": "Python 3",
   "language": "python",
   "name": "python3"
  },
  "language_info": {
   "codemirror_mode": {
    "name": "ipython",
    "version": 3
   },
   "file_extension": ".py",
   "mimetype": "text/x-python",
   "name": "python",
   "nbconvert_exporter": "python",
   "pygments_lexer": "ipython3",
   "version": "3.10.1"
  }
 },
 "nbformat": 4,
 "nbformat_minor": 2
}
