{
 "cells": [
  {
   "cell_type": "code",
   "execution_count": 1,
   "metadata": {},
   "outputs": [
    {
     "name": "stdout",
     "output_type": "stream",
     "text": [
      "Requirement already satisfied: flask in c:\\users\\muneeeb\\anaconda3\\lib\\site-packages (3.0.3)\n",
      "Requirement already satisfied: Werkzeug>=3.0.0 in c:\\users\\muneeeb\\anaconda3\\lib\\site-packages (from flask) (3.0.3)\n",
      "Requirement already satisfied: Jinja2>=3.1.2 in c:\\users\\muneeeb\\anaconda3\\lib\\site-packages (from flask) (3.1.4)\n",
      "Requirement already satisfied: itsdangerous>=2.1.2 in c:\\users\\muneeeb\\anaconda3\\lib\\site-packages (from flask) (2.2.0)\n",
      "Requirement already satisfied: click>=8.1.3 in c:\\users\\muneeeb\\anaconda3\\lib\\site-packages (from flask) (8.1.7)\n",
      "Requirement already satisfied: blinker>=1.6.2 in c:\\users\\muneeeb\\anaconda3\\lib\\site-packages (from flask) (1.6.2)\n",
      "Requirement already satisfied: colorama in c:\\users\\muneeeb\\anaconda3\\lib\\site-packages (from click>=8.1.3->flask) (0.4.6)\n",
      "Requirement already satisfied: MarkupSafe>=2.0 in c:\\users\\muneeeb\\anaconda3\\lib\\site-packages (from Jinja2>=3.1.2->flask) (2.1.3)\n",
      "Note: you may need to restart the kernel to use updated packages.\n"
     ]
    }
   ],
   "source": [
    "pip install flask\n"
   ]
  },
  {
   "cell_type": "code",
   "execution_count": 17,
   "metadata": {},
   "outputs": [],
   "source": [
    "# from flask import Flask, request, jsonify\n",
    "# import pandas as pd\n",
    "# import pickle\n",
    "# import numpy as np\n",
    "\n",
    "# # Load trained model\n",
    "# with open(\"model.pkl\", \"rb\") as model_file:\n",
    "#     model = pickle.load(model_file)\n",
    "\n",
    "# # Load Label Encoders\n",
    "# with open(\"label_encoders.pkl\", \"rb\") as le_file:\n",
    "#     le_dict = pickle.load(le_file)\n",
    "\n",
    "# app = Flask(__name__)\n",
    "\n",
    "# @app.route(\"/\")\n",
    "# def home():\n",
    "#     return \"Commodity Price Prediction API is running!\"\n",
    "\n",
    "# @app.route(\"/predict\", methods=[\"POST\"])\n",
    "# def predict():\n",
    "#     data = request.get_json()\n",
    "\n",
    "#     # Required fields\n",
    "#     required_fields = [\"Commodity\", \"Variety\", \"Grade\", \"District Name\", \"Market Name\", \"Price Date\", \"Temperature\"]\n",
    "#     for field in required_fields:\n",
    "#         if field not in data:\n",
    "#             return jsonify({\"error\": f\"Missing field: {field}\"}), 400\n",
    "\n",
    "#     # Encode categorical variables\n",
    "#     try:\n",
    "#         data_encoded = data.copy()\n",
    "#         for col in [\"Commodity\", \"Variety\", \"Grade\", \"District Name\", \"Market Name\"]:\n",
    "#             data_encoded[col] = le_dict[col].transform([data[col]])[0]\n",
    "\n",
    "#         # Extract year and month\n",
    "#         date = pd.to_datetime(data[\"Price Date\"])\n",
    "#         data_encoded[\"year\"] = date.year\n",
    "#         data_encoded[\"month\"] = date.month\n",
    "\n",
    "#         # Prepare input for model\n",
    "#         model_input = np.array([[data_encoded[col] for col in [\"District Name\", \"Market Name\", \"Commodity\", \"Variety\", \"Grade\", \"year\", \"month\", \"Temperature\"]]])\n",
    "        \n",
    "#         # Make prediction\n",
    "#         prediction = model.predict(model_input)[0]\n",
    "\n",
    "#         return jsonify({\"Predicted Modal Price\": prediction})\n",
    "\n",
    "#     except Exception as e:\n",
    "#         return jsonify({\"error\": str(e)}), 500\n",
    "\n",
    "# if __name__ == \"__main__\":\n",
    "#     app.run(debug=True)\n"
   ]
  },
  {
   "cell_type": "code",
   "execution_count": null,
   "metadata": {},
   "outputs": [
    {
     "name": "stdout",
     "output_type": "stream",
     "text": [
      "✅ Model loaded successfully!\n"
     ]
    }
   ],
   "source": [
    "import os\n",
    "\n",
    "if os.path.exists(\"model.pkl\"):\n",
    "    with open(\"model.pkl\", \"rb\") as model_file:\n",
    "        model = pickle.load(model_file)\n",
    "    print(\"✅ Model loaded successfully!\")\n",
    "else:\n",
    "    print(\"❌ Error: model.pkl not found!\")\n"
   ]
  },
  {
   "cell_type": "code",
   "execution_count": null,
   "metadata": {},
   "outputs": [
    {
     "data": {
      "text/plain": [
       "<flask_cors.extension.CORS at 0x17b22ac8cb0>"
      ]
     },
     "execution_count": 20,
     "metadata": {},
     "output_type": "execute_result"
    }
   ],
   "source": [
    "from flask_cors import CORS\n",
    "CORS(app)\n"
   ]
  },
  {
   "cell_type": "code",
   "execution_count": 21,
   "metadata": {},
   "outputs": [
    {
     "name": "stdout",
     "output_type": "stream",
     "text": [
      "Requirement already satisfied: flask-cors in c:\\users\\muneeeb\\anaconda3\\lib\\site-packages (5.0.1)\n",
      "Requirement already satisfied: flask>=0.9 in c:\\users\\muneeeb\\anaconda3\\lib\\site-packages (from flask-cors) (3.0.3)\n",
      "Requirement already satisfied: Werkzeug>=0.7 in c:\\users\\muneeeb\\anaconda3\\lib\\site-packages (from flask-cors) (3.0.3)\n",
      "Requirement already satisfied: Jinja2>=3.1.2 in c:\\users\\muneeeb\\anaconda3\\lib\\site-packages (from flask>=0.9->flask-cors) (3.1.4)\n",
      "Requirement already satisfied: itsdangerous>=2.1.2 in c:\\users\\muneeeb\\anaconda3\\lib\\site-packages (from flask>=0.9->flask-cors) (2.2.0)\n",
      "Requirement already satisfied: click>=8.1.3 in c:\\users\\muneeeb\\anaconda3\\lib\\site-packages (from flask>=0.9->flask-cors) (8.1.7)\n",
      "Requirement already satisfied: blinker>=1.6.2 in c:\\users\\muneeeb\\anaconda3\\lib\\site-packages (from flask>=0.9->flask-cors) (1.6.2)\n",
      "Requirement already satisfied: MarkupSafe>=2.1.1 in c:\\users\\muneeeb\\anaconda3\\lib\\site-packages (from Werkzeug>=0.7->flask-cors) (2.1.3)\n",
      "Requirement already satisfied: colorama in c:\\users\\muneeeb\\anaconda3\\lib\\site-packages (from click>=8.1.3->flask>=0.9->flask-cors) (0.4.6)\n",
      "Note: you may need to restart the kernel to use updated packages.\n"
     ]
    }
   ],
   "source": [
    "pip install flask-cors\n"
   ]
  },
  {
   "cell_type": "markdown",
   "metadata": {},
   "source": [
    "Minimal flask api\n",
    "from flask import Flask\n",
    "\n",
    "app = Flask(__name__)\n",
    "\n",
    "@app.route(\"/\")\n",
    "def hello_world():\n",
    "    return \"<p>Hello, World!</p>\""
   ]
  },
  {
   "cell_type": "code",
   "execution_count": 23,
   "metadata": {},
   "outputs": [
    {
     "name": "stdout",
     "output_type": "stream",
     "text": [
      " * Serving Flask app '__main__'\n",
      " * Debug mode: off\n"
     ]
    },
    {
     "name": "stderr",
     "output_type": "stream",
     "text": [
      "WARNING: This is a development server. Do not use it in a production deployment. Use a production WSGI server instead.\n",
      " * Running on http://127.0.0.1:5000\n",
      "Press CTRL+C to quit\n",
      "127.0.0.1 - - [08/Apr/2025 18:35:27] \"GET / HTTP/1.1\" 200 -\n"
     ]
    }
   ],
   "source": [
    "from flask import Flask\n",
    "\n",
    "app = Flask(__name__)\n",
    "\n",
    "@app.route(\"/\")\n",
    "def hello_world():\n",
    "    return \"<p>Hello, World!</p>\"\n",
    "@app.route(\"/name\")\n",
    "def younis():\n",
    "    return 'my name is younis khan'\n",
    "if __name__ == \"__main__\":\n",
    "    app.run(port=5000, debug=False)"
   ]
  },
  {
   "cell_type": "code",
   "execution_count": null,
   "metadata": {},
   "outputs": [
    {
     "name": "stdout",
     "output_type": "stream",
     "text": [
      " * Serving Flask app '__main__'\n",
      " * Debug mode: off\n"
     ]
    },
    {
     "name": "stderr",
     "output_type": "stream",
     "text": [
      "WARNING: This is a development server. Do not use it in a production deployment. Use a production WSGI server instead.\n",
      " * Running on http://127.0.0.1:5001\n",
      "Press CTRL+C to quit\n",
      "127.0.0.1 - - [08/Apr/2025 20:10:04] \"GET / HTTP/1.1\" 200 -\n",
      "127.0.0.1 - - [08/Apr/2025 20:10:10] \"GET /analysis HTTP/1.1\" 404 -\n"
     ]
    }
   ],
   "source": [
    "from flask import Flask, request, jsonify,render_template\n",
    "import pandas as pd\n",
    "import pickle\n",
    "import numpy as np\n",
    "from flask_cors import CORS  # Import CORS\n",
    "\n",
    "app = Flask(__name__)  # Flask app initialize\n",
    "CORS(app)  # Enable CORS after app initialization\n",
    "\n",
    "# Load trained model\n",
    "with open(\"model.pkl\", \"rb\") as model_file:\n",
    "    model = pickle.load(model_file)\n",
    "\n",
    "# Load Label Encoders\n",
    "with open(\"label_encoders.pkl\", \"rb\") as le_file:\n",
    "    le_dict = pickle.load(le_file)\n",
    "\n",
    "@app.route(\"/api_status\")\n",
    "def api_status():\n",
    "    return \"Commodity Price Prediction API is running!\"\n",
    "\n",
    "@app.route(\"/predict\", methods=[\"POST\"])\n",
    "def predict():\n",
    "    data = request.get_json()\n",
    "\n",
    "    # Required fields\n",
    "    required_fields = [\"Commodity\", \"Variety\", \"Grade\", \"District Name\", \"Market Name\", \"Price Date\", \"Temperature\"]\n",
    "    for field in required_fields:\n",
    "        if field not in data:\n",
    "            return jsonify({\"error\": f\"Missing field: {field}\"}), 400\n",
    "\n",
    "    # Encode categorical variables\n",
    "    try:\n",
    "        data_encoded = data.copy()\n",
    "        for col in [\"Commodity\", \"Variety\", \"Grade\", \"District Name\", \"Market Name\"]:\n",
    "            data_encoded[col] = le_dict[col].transform([data[col]])[0]\n",
    "\n",
    "        # Extract year and month\n",
    "        date = pd.to_datetime(data[\"Price Date\"])\n",
    "        data_encoded[\"year\"] = date.year\n",
    "        data_encoded[\"month\"] = date.month\n",
    "\n",
    "        # Prepare input for model\n",
    "        model_input = np.array([[data_encoded[col] for col in [\"District Name\", \"Market Name\", \"Commodity\", \"Variety\", \"Grade\", \"year\", \"month\", \"Temperature\"]]])\n",
    "        \n",
    "        # Make prediction\n",
    "        prediction = model.predict(model_input)[0]\n",
    "\n",
    "        return jsonify({\"Predicted Modal Price\": prediction})\n",
    "\n",
    "    except Exception as e:\n",
    "        return jsonify({\"error\": str(e)}), 500\n",
    "\n",
    "if __name__ == \"__main__\":\n",
    "    app.run(port=5001, debug=False)\n",
    "    # Load the dataset\n",
    "app = Flask(__name__)\n",
    "\n",
    "# Load the dataset\n",
    "from flask import Flask, render_template\n",
    "import pandas as pd\n",
    "\n",
    "app = Flask(__name__)\n",
    "\n",
    "# Load the dataset\n",
    "df = pd.read_csv(\"final_merged_dataset_updated.csv\")\n",
    "\n",
    "# Extract dropdown values\n",
    "dropdown_values = {\n",
    "    \"commodities\": sorted(df[\"Commodity\"].dropna().unique()),\n",
    "    \"varieties\": sorted(df[\"Variety\"].dropna().unique()),\n",
    "    \"grades\": sorted(df[\"Grade\"].dropna().unique()),\n",
    "    \"districts\": sorted(df[\"District Name\"].dropna().unique()),\n",
    "    \"markets\": sorted(df[\"Market Name\"].dropna().unique())\n",
    "}\n",
    "\n",
    "@app.route('/')\n",
    "def home():\n",
    "    return render_template(\"home.html\")  # This works fine\n",
    "\n",
    "@app.route('/analysis')  # This route must exist!\n",
    "def analysis():\n",
    "    return render_template(\"analysis.html\", dropdowns=dropdown_values)\n",
    "\n",
    "if __name__ == '__main__':\n",
    "    app.run(debug=True, port=5001)\n",
    "\n",
    "\n",
    "\n"
   ]
  },
  {
   "cell_type": "code",
   "execution_count": 27,
   "metadata": {},
   "outputs": [
    {
     "ename": "SyntaxError",
     "evalue": "incomplete input (3590982592.py, line 2)",
     "output_type": "error",
     "traceback": [
      "\u001b[1;36m  Cell \u001b[1;32mIn[27], line 2\u001b[1;36m\u001b[0m\n\u001b[1;33m    def predict():\u001b[0m\n\u001b[1;37m                  ^\u001b[0m\n\u001b[1;31mSyntaxError\u001b[0m\u001b[1;31m:\u001b[0m incomplete input\n"
     ]
    }
   ],
   "source": [
    "@app.route('/predict', methods=['POST'])\n",
    "def predict():\n"
   ]
  },
  {
   "cell_type": "code",
   "execution_count": null,
   "metadata": {},
   "outputs": [],
   "source": [
    "from flask_cors import CORS\n",
    "CORS(app)\n"
   ]
  },
  {
   "cell_type": "code",
   "execution_count": 39,
   "metadata": {},
   "outputs": [
    {
     "name": "stdout",
     "output_type": "stream",
     "text": [
      "['Apple', 'Apricot(Jardalu/Khumani)', 'Banana', 'Beetroot', 'Bhindi(Ladies Finger)']\n"
     ]
    }
   ],
   "source": [
    "print(dropdown_values['commodities'][:5])  # Shows first 5 commodities in console\n"
   ]
  }
 ],
 "metadata": {
  "kernelspec": {
   "display_name": "base",
   "language": "python",
   "name": "python3"
  },
  "language_info": {
   "codemirror_mode": {
    "name": "ipython",
    "version": 3
   },
   "file_extension": ".py",
   "mimetype": "text/x-python",
   "name": "python",
   "nbconvert_exporter": "python",
   "pygments_lexer": "ipython3",
   "version": "3.12.7"
  }
 },
 "nbformat": 4,
 "nbformat_minor": 2
}
