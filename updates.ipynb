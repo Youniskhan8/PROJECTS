{
 "cells": [
  {
   "cell_type": "code",
   "execution_count": 6,
   "metadata": {},
   "outputs": [
    {
     "data": {
      "text/plain": [
       "array(['FAQ', 'Non-FAQ', 'Large', 'Medium', 'Small'], dtype=object)"
      ]
     },
     "execution_count": 6,
     "metadata": {},
     "output_type": "execute_result"
    }
   ],
   "source": [
    "import pandas as pd\n",
    "\n",
    "# Load the dataset\n",
    "df = pd.read_csv(r'C:\\Users\\91979\\Desktop\\agriAPI\\final_merged_dataset (1).csv')\n",
    "\n",
    "# Show unique values in the 'Grade' column before the change\n",
    "unique_grades_before = df['Grade'].unique()\n",
    "unique_grades_before\n"
   ]
  },
  {
   "cell_type": "code",
   "execution_count": 7,
   "metadata": {},
   "outputs": [
    {
     "data": {
      "text/plain": [
       "array(['NO GRADE', 'Non-FAQ', 'Large', 'Medium', 'Small'], dtype=object)"
      ]
     },
     "execution_count": 7,
     "metadata": {},
     "output_type": "execute_result"
    }
   ],
   "source": [
    "# Replace 'FAQ' with 'NO GRADE' in the 'Grade' column\n",
    "df['Grade'] = df['Grade'].replace('FAQ', 'NO GRADE')\n",
    "\n",
    "# Show unique values after the change to confirm\n",
    "unique_grades_after = df['Grade'].unique()\n",
    "unique_grades_after\n"
   ]
  },
  {
   "cell_type": "code",
   "execution_count": 8,
   "metadata": {},
   "outputs": [
    {
     "data": {
      "text/plain": [
       "array(['NO GRADE', 'Large', 'Medium', 'Small'], dtype=object)"
      ]
     },
     "execution_count": 8,
     "metadata": {},
     "output_type": "execute_result"
    }
   ],
   "source": [
    "# Replace 'Non-FAQ' with 'NO GRADE' as well\n",
    "df['Grade'] = df['Grade'].replace('Non-FAQ', 'NO GRADE')\n",
    "\n",
    "# Show unique values after the change to confirm\n",
    "unique_grades_final = df['Grade'].unique()\n",
    "unique_grades_final\n"
   ]
  },
  {
   "cell_type": "code",
   "execution_count": null,
   "metadata": {},
   "outputs": [
    {
     "data": {
      "text/html": [
       "<div>\n",
       "<style scoped>\n",
       "    .dataframe tbody tr th:only-of-type {\n",
       "        vertical-align: middle;\n",
       "    }\n",
       "\n",
       "    .dataframe tbody tr th {\n",
       "        vertical-align: top;\n",
       "    }\n",
       "\n",
       "    .dataframe thead th {\n",
       "        text-align: right;\n",
       "    }\n",
       "</style>\n",
       "<table border=\"1\" class=\"dataframe\">\n",
       "  <thead>\n",
       "    <tr style=\"text-align: right;\">\n",
       "      <th></th>\n",
       "      <th>District Name</th>\n",
       "      <th>Market Name</th>\n",
       "      <th>Commodity</th>\n",
       "      <th>Variety</th>\n",
       "      <th>Grade</th>\n",
       "      <th>Min Price (Rs./Quintal)</th>\n",
       "      <th>Max Price (Rs./Quintal)</th>\n",
       "      <th>Modal Price (Rs./Quintal)</th>\n",
       "      <th>Price Date</th>\n",
       "      <th>Temperature</th>\n",
       "    </tr>\n",
       "  </thead>\n",
       "  <tbody>\n",
       "    <tr>\n",
       "      <th>0</th>\n",
       "      <td>Jammu</td>\n",
       "      <td>Akhnoor</td>\n",
       "      <td>Spinach</td>\n",
       "      <td>Other</td>\n",
       "      <td>NO GRADE</td>\n",
       "      <td>600.0</td>\n",
       "      <td>1000.0</td>\n",
       "      <td>800.0</td>\n",
       "      <td>19-12-2020</td>\n",
       "      <td>-3.68</td>\n",
       "    </tr>\n",
       "    <tr>\n",
       "      <th>1</th>\n",
       "      <td>Jammu</td>\n",
       "      <td>Akhnoor</td>\n",
       "      <td>Spinach</td>\n",
       "      <td>Other</td>\n",
       "      <td>NO GRADE</td>\n",
       "      <td>700.0</td>\n",
       "      <td>900.0</td>\n",
       "      <td>800.0</td>\n",
       "      <td>10-02-2021</td>\n",
       "      <td>2.87</td>\n",
       "    </tr>\n",
       "    <tr>\n",
       "      <th>2</th>\n",
       "      <td>Jammu</td>\n",
       "      <td>Akhnoor</td>\n",
       "      <td>Spinach</td>\n",
       "      <td>Other</td>\n",
       "      <td>NO GRADE</td>\n",
       "      <td>800.0</td>\n",
       "      <td>1000.0</td>\n",
       "      <td>900.0</td>\n",
       "      <td>01-03-2021</td>\n",
       "      <td>0.65</td>\n",
       "    </tr>\n",
       "    <tr>\n",
       "      <th>3</th>\n",
       "      <td>Jammu</td>\n",
       "      <td>Akhnoor</td>\n",
       "      <td>Spinach</td>\n",
       "      <td>Other</td>\n",
       "      <td>NO GRADE</td>\n",
       "      <td>800.0</td>\n",
       "      <td>1000.0</td>\n",
       "      <td>900.0</td>\n",
       "      <td>02-01-2021</td>\n",
       "      <td>-2.69</td>\n",
       "    </tr>\n",
       "    <tr>\n",
       "      <th>4</th>\n",
       "      <td>Jammu</td>\n",
       "      <td>Akhnoor</td>\n",
       "      <td>Spinach</td>\n",
       "      <td>Other</td>\n",
       "      <td>NO GRADE</td>\n",
       "      <td>800.0</td>\n",
       "      <td>1000.0</td>\n",
       "      <td>900.0</td>\n",
       "      <td>02-03-2021</td>\n",
       "      <td>2.75</td>\n",
       "    </tr>\n",
       "  </tbody>\n",
       "</table>\n",
       "</div>"
      ],
      "text/plain": [
       "  District Name Market Name Commodity Variety     Grade  \\\n",
       "0         Jammu     Akhnoor   Spinach   Other  NO GRADE   \n",
       "1         Jammu     Akhnoor   Spinach   Other  NO GRADE   \n",
       "2         Jammu     Akhnoor   Spinach   Other  NO GRADE   \n",
       "3         Jammu     Akhnoor   Spinach   Other  NO GRADE   \n",
       "4         Jammu     Akhnoor   Spinach   Other  NO GRADE   \n",
       "\n",
       "   Min Price (Rs./Quintal)  Max Price (Rs./Quintal)  \\\n",
       "0                    600.0                   1000.0   \n",
       "1                    700.0                    900.0   \n",
       "2                    800.0                   1000.0   \n",
       "3                    800.0                   1000.0   \n",
       "4                    800.0                   1000.0   \n",
       "\n",
       "   Modal Price (Rs./Quintal)  Price Date  Temperature  \n",
       "0                      800.0  19-12-2020        -3.68  \n",
       "1                      800.0  10-02-2021         2.87  \n",
       "2                      900.0  01-03-2021         0.65  \n",
       "3                      900.0  02-01-2021        -2.69  \n",
       "4                      900.0  02-03-2021         2.75  "
      ]
     },
     "execution_count": 11,
     "metadata": {},
     "output_type": "execute_result"
    }
   ],
   "source": [
    "import pandas as pd\n",
    "\n",
    "# Load your original file\n",
    "df = pd.read_csv(\"final_merged_dataset (1).csv\")\n",
    "\n",
    "# Replace 'FAQ' and 'Non-FAQ' with 'NO GRADE'\n",
    "df['Grade'] = df['Grade'].replace(['FAQ', 'Non-FAQ'], 'NO GRADE')\n",
    "\n",
    "# Save the updated DataFrame to a new file\n",
    "df.to_csv(\"final_merged_dataset_updated.csv\", index=False)\n",
    "\n"
   ]
  },
  {
   "cell_type": "code",
   "execution_count": null,
   "metadata": {},
   "outputs": [],
   "source": [
    "from sklearn.metrics import mean_absolute_error, mean_squared_error, r2_score\n",
    "import numpy as np\n",
    "\n",
    "# Predictions\n",
    "y_train_pred = model.predict(X_train)\n",
    "y_test_pred = model.predict(X_test)\n",
    "\n",
    "# Metrics\n",
    "print(\"📚 Training Performance:\")\n",
    "print(\"MAE:\", mean_absolute_error(y_train, y_train_pred))\n",
    "print(\"RMSE:\", np.sqrt(mean_squared_error(y_train, y_train_pred)))\n",
    "print(\"R2 Score:\", r2_score(y_train, y_train_pred))\n",
    "\n",
    "print(\"\\n🧪 Testing Performance:\")\n",
    "print(\"MAE:\", mean_absolute_error(y_test, y_test_pred))\n",
    "print(\"RMSE:\", np.sqrt(mean_squared_error(y_test, y_test_pred)))\n",
    "print(\"R2 Score:\", r2_score(y_test, y_test_pred))"
   ]
  }
 ],
 "metadata": {
  "kernelspec": {
   "display_name": "Python 3",
   "language": "python",
   "name": "python3"
  },
  "language_info": {
   "codemirror_mode": {
    "name": "ipython",
    "version": 3
   },
   "file_extension": ".py",
   "mimetype": "text/x-python",
   "name": "python",
   "nbconvert_exporter": "python",
   "pygments_lexer": "ipython3",
   "version": "3.10.1"
  }
 },
 "nbformat": 4,
 "nbformat_minor": 2
}
